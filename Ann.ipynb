{
  "nbformat": 4,
  "nbformat_minor": 0,
  "metadata": {
    "colab": {
      "name": "Ann.ipynb",
      "provenance": [],
      "collapsed_sections": [],
      "authorship_tag": "ABX9TyP9mjuw4Cb7tX5dvSV954Fq",
      "include_colab_link": true
    },
    "kernelspec": {
      "name": "python3",
      "display_name": "Python 3"
    }
  },
  "cells": [
    {
      "cell_type": "markdown",
      "metadata": {
        "id": "view-in-github",
        "colab_type": "text"
      },
      "source": [
        "<a href=\"https://colab.research.google.com/github/Krishan-Kumar-kk/Neural-network/blob/main/Ann.ipynb\" target=\"_parent\"><img src=\"https://colab.research.google.com/assets/colab-badge.svg\" alt=\"Open In Colab\"/></a>"
      ]
    },
    {
      "cell_type": "code",
      "metadata": {
        "id": "-byKhYlxDnO-"
      },
      "source": [
        "\r\n",
        "# Part 1 - Data Preprocessing\r\n",
        "\r\n",
        "# Importing the libraries\r\n",
        "import numpy as np\r\n",
        "import matplotlib.pyplot as plt\r\n",
        "import pandas as pd"
      ],
      "execution_count": 1,
      "outputs": []
    },
    {
      "cell_type": "code",
      "metadata": {
        "id": "iSgemAvUEQUV"
      },
      "source": [
        "# Importing the dataset\r\n",
        "dataset = pd.read_csv('Churn_Modelling.csv')\r\n",
        "X = dataset.iloc[:, 3:13]\r\n",
        "y = dataset.iloc[:, 13]"
      ],
      "execution_count": 2,
      "outputs": []
    },
    {
      "cell_type": "code",
      "metadata": {
        "id": "w3SW4t0UEd8m"
      },
      "source": [
        "#Create dummy variables\r\n",
        "geography=pd.get_dummies(X[\"Geography\"],drop_first=True)\r\n",
        "gender=pd.get_dummies(X['Gender'],drop_first=True)"
      ],
      "execution_count": 3,
      "outputs": []
    },
    {
      "cell_type": "code",
      "metadata": {
        "id": "A5YOo5fGEeFU"
      },
      "source": [
        "## Concatenate the Data Frames\r\n",
        "\r\n",
        "X=pd.concat([X,geography,gender],axis=1)"
      ],
      "execution_count": 4,
      "outputs": []
    },
    {
      "cell_type": "code",
      "metadata": {
        "id": "C_tpvD4wE8XE"
      },
      "source": [
        ""
      ],
      "execution_count": 4,
      "outputs": []
    },
    {
      "cell_type": "code",
      "metadata": {
        "colab": {
          "base_uri": "https://localhost:8080/",
          "height": 399
        },
        "id": "McmJNiNKEeLE",
        "outputId": "d385795b-7223-4612-9764-578efcd5c80f"
      },
      "source": [
        "X"
      ],
      "execution_count": 5,
      "outputs": [
        {
          "output_type": "execute_result",
          "data": {
            "text/html": [
              "<div>\n",
              "<style scoped>\n",
              "    .dataframe tbody tr th:only-of-type {\n",
              "        vertical-align: middle;\n",
              "    }\n",
              "\n",
              "    .dataframe tbody tr th {\n",
              "        vertical-align: top;\n",
              "    }\n",
              "\n",
              "    .dataframe thead th {\n",
              "        text-align: right;\n",
              "    }\n",
              "</style>\n",
              "<table border=\"1\" class=\"dataframe\">\n",
              "  <thead>\n",
              "    <tr style=\"text-align: right;\">\n",
              "      <th></th>\n",
              "      <th>CreditScore</th>\n",
              "      <th>Geography</th>\n",
              "      <th>Gender</th>\n",
              "      <th>Age</th>\n",
              "      <th>Tenure</th>\n",
              "      <th>Balance</th>\n",
              "      <th>NumOfProducts</th>\n",
              "      <th>HasCrCard</th>\n",
              "      <th>IsActiveMember</th>\n",
              "      <th>EstimatedSalary</th>\n",
              "      <th>Germany</th>\n",
              "      <th>Spain</th>\n",
              "      <th>Male</th>\n",
              "    </tr>\n",
              "  </thead>\n",
              "  <tbody>\n",
              "    <tr>\n",
              "      <th>0</th>\n",
              "      <td>619</td>\n",
              "      <td>France</td>\n",
              "      <td>Female</td>\n",
              "      <td>42</td>\n",
              "      <td>2</td>\n",
              "      <td>0.00</td>\n",
              "      <td>1</td>\n",
              "      <td>1</td>\n",
              "      <td>1</td>\n",
              "      <td>101348.88</td>\n",
              "      <td>0</td>\n",
              "      <td>0</td>\n",
              "      <td>0</td>\n",
              "    </tr>\n",
              "    <tr>\n",
              "      <th>1</th>\n",
              "      <td>608</td>\n",
              "      <td>Spain</td>\n",
              "      <td>Female</td>\n",
              "      <td>41</td>\n",
              "      <td>1</td>\n",
              "      <td>83807.86</td>\n",
              "      <td>1</td>\n",
              "      <td>0</td>\n",
              "      <td>1</td>\n",
              "      <td>112542.58</td>\n",
              "      <td>0</td>\n",
              "      <td>1</td>\n",
              "      <td>0</td>\n",
              "    </tr>\n",
              "    <tr>\n",
              "      <th>2</th>\n",
              "      <td>502</td>\n",
              "      <td>France</td>\n",
              "      <td>Female</td>\n",
              "      <td>42</td>\n",
              "      <td>8</td>\n",
              "      <td>159660.80</td>\n",
              "      <td>3</td>\n",
              "      <td>1</td>\n",
              "      <td>0</td>\n",
              "      <td>113931.57</td>\n",
              "      <td>0</td>\n",
              "      <td>0</td>\n",
              "      <td>0</td>\n",
              "    </tr>\n",
              "    <tr>\n",
              "      <th>3</th>\n",
              "      <td>699</td>\n",
              "      <td>France</td>\n",
              "      <td>Female</td>\n",
              "      <td>39</td>\n",
              "      <td>1</td>\n",
              "      <td>0.00</td>\n",
              "      <td>2</td>\n",
              "      <td>0</td>\n",
              "      <td>0</td>\n",
              "      <td>93826.63</td>\n",
              "      <td>0</td>\n",
              "      <td>0</td>\n",
              "      <td>0</td>\n",
              "    </tr>\n",
              "    <tr>\n",
              "      <th>4</th>\n",
              "      <td>850</td>\n",
              "      <td>Spain</td>\n",
              "      <td>Female</td>\n",
              "      <td>43</td>\n",
              "      <td>2</td>\n",
              "      <td>125510.82</td>\n",
              "      <td>1</td>\n",
              "      <td>1</td>\n",
              "      <td>1</td>\n",
              "      <td>79084.10</td>\n",
              "      <td>0</td>\n",
              "      <td>1</td>\n",
              "      <td>0</td>\n",
              "    </tr>\n",
              "    <tr>\n",
              "      <th>...</th>\n",
              "      <td>...</td>\n",
              "      <td>...</td>\n",
              "      <td>...</td>\n",
              "      <td>...</td>\n",
              "      <td>...</td>\n",
              "      <td>...</td>\n",
              "      <td>...</td>\n",
              "      <td>...</td>\n",
              "      <td>...</td>\n",
              "      <td>...</td>\n",
              "      <td>...</td>\n",
              "      <td>...</td>\n",
              "      <td>...</td>\n",
              "    </tr>\n",
              "    <tr>\n",
              "      <th>9995</th>\n",
              "      <td>771</td>\n",
              "      <td>France</td>\n",
              "      <td>Male</td>\n",
              "      <td>39</td>\n",
              "      <td>5</td>\n",
              "      <td>0.00</td>\n",
              "      <td>2</td>\n",
              "      <td>1</td>\n",
              "      <td>0</td>\n",
              "      <td>96270.64</td>\n",
              "      <td>0</td>\n",
              "      <td>0</td>\n",
              "      <td>1</td>\n",
              "    </tr>\n",
              "    <tr>\n",
              "      <th>9996</th>\n",
              "      <td>516</td>\n",
              "      <td>France</td>\n",
              "      <td>Male</td>\n",
              "      <td>35</td>\n",
              "      <td>10</td>\n",
              "      <td>57369.61</td>\n",
              "      <td>1</td>\n",
              "      <td>1</td>\n",
              "      <td>1</td>\n",
              "      <td>101699.77</td>\n",
              "      <td>0</td>\n",
              "      <td>0</td>\n",
              "      <td>1</td>\n",
              "    </tr>\n",
              "    <tr>\n",
              "      <th>9997</th>\n",
              "      <td>709</td>\n",
              "      <td>France</td>\n",
              "      <td>Female</td>\n",
              "      <td>36</td>\n",
              "      <td>7</td>\n",
              "      <td>0.00</td>\n",
              "      <td>1</td>\n",
              "      <td>0</td>\n",
              "      <td>1</td>\n",
              "      <td>42085.58</td>\n",
              "      <td>0</td>\n",
              "      <td>0</td>\n",
              "      <td>0</td>\n",
              "    </tr>\n",
              "    <tr>\n",
              "      <th>9998</th>\n",
              "      <td>772</td>\n",
              "      <td>Germany</td>\n",
              "      <td>Male</td>\n",
              "      <td>42</td>\n",
              "      <td>3</td>\n",
              "      <td>75075.31</td>\n",
              "      <td>2</td>\n",
              "      <td>1</td>\n",
              "      <td>0</td>\n",
              "      <td>92888.52</td>\n",
              "      <td>1</td>\n",
              "      <td>0</td>\n",
              "      <td>1</td>\n",
              "    </tr>\n",
              "    <tr>\n",
              "      <th>9999</th>\n",
              "      <td>792</td>\n",
              "      <td>France</td>\n",
              "      <td>Female</td>\n",
              "      <td>28</td>\n",
              "      <td>4</td>\n",
              "      <td>130142.79</td>\n",
              "      <td>1</td>\n",
              "      <td>1</td>\n",
              "      <td>0</td>\n",
              "      <td>38190.78</td>\n",
              "      <td>0</td>\n",
              "      <td>0</td>\n",
              "      <td>0</td>\n",
              "    </tr>\n",
              "  </tbody>\n",
              "</table>\n",
              "<p>10000 rows × 13 columns</p>\n",
              "</div>"
            ],
            "text/plain": [
              "      CreditScore Geography  Gender  Age  ...  EstimatedSalary  Germany  Spain  Male\n",
              "0             619    France  Female   42  ...        101348.88        0      0     0\n",
              "1             608     Spain  Female   41  ...        112542.58        0      1     0\n",
              "2             502    France  Female   42  ...        113931.57        0      0     0\n",
              "3             699    France  Female   39  ...         93826.63        0      0     0\n",
              "4             850     Spain  Female   43  ...         79084.10        0      1     0\n",
              "...           ...       ...     ...  ...  ...              ...      ...    ...   ...\n",
              "9995          771    France    Male   39  ...         96270.64        0      0     1\n",
              "9996          516    France    Male   35  ...        101699.77        0      0     1\n",
              "9997          709    France  Female   36  ...         42085.58        0      0     0\n",
              "9998          772   Germany    Male   42  ...         92888.52        1      0     1\n",
              "9999          792    France  Female   28  ...         38190.78        0      0     0\n",
              "\n",
              "[10000 rows x 13 columns]"
            ]
          },
          "metadata": {
            "tags": []
          },
          "execution_count": 5
        }
      ]
    },
    {
      "cell_type": "code",
      "metadata": {
        "id": "fpFOHFQcE1WM"
      },
      "source": [
        "## Drop Unnecessary columns\r\n",
        "X=X.drop(['Geography','Gender'],axis=1)"
      ],
      "execution_count": 6,
      "outputs": []
    },
    {
      "cell_type": "code",
      "metadata": {
        "id": "mrDHqGtlE9HP"
      },
      "source": [
        "# Splitting the dataset into the Training set and Test set\r\n",
        "from sklearn.model_selection import train_test_split\r\n",
        "X_train, X_test, y_train, y_test = train_test_split(X, y, test_size = 0.2, random_state = 0)"
      ],
      "execution_count": 7,
      "outputs": []
    },
    {
      "cell_type": "code",
      "metadata": {
        "id": "1oE-Iz7oE9KM"
      },
      "source": [
        "# Feature Scaling\r\n",
        "from sklearn.preprocessing import StandardScaler\r\n",
        "sc = StandardScaler()\r\n",
        "X_train = sc.fit_transform(X_train)\r\n",
        "X_test = sc.transform(X_test)"
      ],
      "execution_count": 8,
      "outputs": []
    },
    {
      "cell_type": "markdown",
      "metadata": {
        "id": "3aALspaLFDcX"
      },
      "source": [
        "**# Part 2 - Now let's make the ANN!**"
      ]
    },
    {
      "cell_type": "code",
      "metadata": {
        "id": "v9UjSxrGE9Mx"
      },
      "source": [
        "# Importing the Keras libraries and packages\r\n",
        "import keras\r\n",
        "from keras.models import Sequential\r\n",
        "from keras.layers import Dense\r\n",
        "from keras.layers import LeakyReLU,PReLU,ELU\r\n",
        "from keras.layers import Dropout"
      ],
      "execution_count": 9,
      "outputs": []
    },
    {
      "cell_type": "code",
      "metadata": {
        "id": "ch3mTFI0FJxI"
      },
      "source": [
        "# Initialising the ANN\r\n",
        "classifier = Sequential()"
      ],
      "execution_count": 27,
      "outputs": []
    },
    {
      "cell_type": "code",
      "metadata": {
        "id": "FlfgUyFDFJz0"
      },
      "source": [
        "# Adding the input layer and the first hidden layer\r\n",
        "#classifier.add(Dense(units = 6, kernel_initializer= 'he_uniform',activation='relu',input_dim = 11))\r\n",
        "classifier.add(Dense(units = 10, kernel_initializer= 'he_normal',activation='relu',input_dim = 11))"
      ],
      "execution_count": 28,
      "outputs": []
    },
    {
      "cell_type": "code",
      "metadata": {
        "id": "rWWJFpfGabch"
      },
      "source": [
        "classifier.add(Dropout=0.3)     #adding dropout layer"
      ],
      "execution_count": null,
      "outputs": []
    },
    {
      "cell_type": "code",
      "metadata": {
        "id": "BT3ooEY_FJ2m"
      },
      "source": [
        "# Adding the second hidden layer\r\n",
        "classifier.add(Dense(units = 20, kernel_initializer = 'he_normal',activation='relu'))"
      ],
      "execution_count": 29,
      "outputs": []
    },
    {
      "cell_type": "code",
      "metadata": {
        "id": "jlUo7V5TartP"
      },
      "source": [
        "classifier.add(Dropout=0.4)"
      ],
      "execution_count": null,
      "outputs": []
    },
    {
      "cell_type": "code",
      "metadata": {
        "id": "4rb76EygZsjW"
      },
      "source": [
        "# Adding the Third hidden layer\r\n",
        "classifier.add(Dense(units = 15, kernel_initializer = 'he_normal',activation='relu'))"
      ],
      "execution_count": 30,
      "outputs": []
    },
    {
      "cell_type": "code",
      "metadata": {
        "id": "VySLCJzBasws"
      },
      "source": [
        "classifier.add(Dropout=0.2)"
      ],
      "execution_count": null,
      "outputs": []
    },
    {
      "cell_type": "code",
      "metadata": {
        "id": "XFXqWaXkGtHd"
      },
      "source": [
        "# Adding the output layer\r\n",
        "classifier.add(Dense(units = 1, kernel_initializer = 'glorot_uniform', activation = 'sigmoid'))"
      ],
      "execution_count": 31,
      "outputs": []
    },
    {
      "cell_type": "code",
      "metadata": {
        "colab": {
          "base_uri": "https://localhost:8080/"
        },
        "id": "vflxkbx1G1RC",
        "outputId": "c0f4b116-de4a-48c0-b9ce-a14e7eb3cc44"
      },
      "source": [
        "classifier.summary()"
      ],
      "execution_count": 32,
      "outputs": [
        {
          "output_type": "stream",
          "text": [
            "Model: \"sequential_1\"\n",
            "_________________________________________________________________\n",
            "Layer (type)                 Output Shape              Param #   \n",
            "=================================================================\n",
            "dense_3 (Dense)              (None, 10)                120       \n",
            "_________________________________________________________________\n",
            "dense_4 (Dense)              (None, 20)                220       \n",
            "_________________________________________________________________\n",
            "dense_5 (Dense)              (None, 15)                315       \n",
            "_________________________________________________________________\n",
            "dense_6 (Dense)              (None, 1)                 16        \n",
            "=================================================================\n",
            "Total params: 671\n",
            "Trainable params: 671\n",
            "Non-trainable params: 0\n",
            "_________________________________________________________________\n"
          ],
          "name": "stdout"
        }
      ]
    },
    {
      "cell_type": "code",
      "metadata": {
        "id": "VmkHH0AoHMwK"
      },
      "source": [
        "# Compiling the ANN\r\n",
        "classifier.compile(optimizer = 'Adamax', loss = 'binary_crossentropy', metrics = ['accuracy'])"
      ],
      "execution_count": 33,
      "outputs": []
    },
    {
      "cell_type": "code",
      "metadata": {
        "colab": {
          "base_uri": "https://localhost:8080/"
        },
        "id": "ib6WKeQwHlVD",
        "outputId": "21b3b108-f261-4422-ad88-2e44fcdc7d70"
      },
      "source": [
        "# Fitting the ANN to the Training set\r\n",
        "model_history=classifier.fit(X_train, y_train,validation_split=0.33, batch_size = 10, epochs = 100)"
      ],
      "execution_count": 34,
      "outputs": [
        {
          "output_type": "stream",
          "text": [
            "Epoch 1/100\n",
            "536/536 [==============================] - 1s 2ms/step - loss: 0.6222 - accuracy: 0.6633 - val_loss: 0.4969 - val_accuracy: 0.7955\n",
            "Epoch 2/100\n",
            "536/536 [==============================] - 1s 1ms/step - loss: 0.4678 - accuracy: 0.8039 - val_loss: 0.4683 - val_accuracy: 0.8008\n",
            "Epoch 3/100\n",
            "536/536 [==============================] - 1s 1ms/step - loss: 0.4520 - accuracy: 0.8032 - val_loss: 0.4481 - val_accuracy: 0.8039\n",
            "Epoch 4/100\n",
            "536/536 [==============================] - 1s 2ms/step - loss: 0.4296 - accuracy: 0.8162 - val_loss: 0.4325 - val_accuracy: 0.8137\n",
            "Epoch 5/100\n",
            "536/536 [==============================] - 1s 1ms/step - loss: 0.4125 - accuracy: 0.8287 - val_loss: 0.4205 - val_accuracy: 0.8160\n",
            "Epoch 6/100\n",
            "536/536 [==============================] - 1s 1ms/step - loss: 0.3979 - accuracy: 0.8319 - val_loss: 0.4112 - val_accuracy: 0.8247\n",
            "Epoch 7/100\n",
            "536/536 [==============================] - 1s 1ms/step - loss: 0.3901 - accuracy: 0.8383 - val_loss: 0.4039 - val_accuracy: 0.8266\n",
            "Epoch 8/100\n",
            "536/536 [==============================] - 1s 1ms/step - loss: 0.3701 - accuracy: 0.8484 - val_loss: 0.3969 - val_accuracy: 0.8296\n",
            "Epoch 9/100\n",
            "536/536 [==============================] - 1s 2ms/step - loss: 0.3634 - accuracy: 0.8570 - val_loss: 0.3917 - val_accuracy: 0.8338\n",
            "Epoch 10/100\n",
            "536/536 [==============================] - 1s 2ms/step - loss: 0.3784 - accuracy: 0.8379 - val_loss: 0.3867 - val_accuracy: 0.8342\n",
            "Epoch 11/100\n",
            "536/536 [==============================] - 1s 2ms/step - loss: 0.3722 - accuracy: 0.8457 - val_loss: 0.3829 - val_accuracy: 0.8368\n",
            "Epoch 12/100\n",
            "536/536 [==============================] - 1s 1ms/step - loss: 0.3606 - accuracy: 0.8495 - val_loss: 0.3790 - val_accuracy: 0.8413\n",
            "Epoch 13/100\n",
            "536/536 [==============================] - 1s 1ms/step - loss: 0.3478 - accuracy: 0.8610 - val_loss: 0.3760 - val_accuracy: 0.8402\n",
            "Epoch 14/100\n",
            "536/536 [==============================] - 1s 2ms/step - loss: 0.3488 - accuracy: 0.8520 - val_loss: 0.3741 - val_accuracy: 0.8417\n",
            "Epoch 15/100\n",
            "536/536 [==============================] - 1s 2ms/step - loss: 0.3403 - accuracy: 0.8585 - val_loss: 0.3712 - val_accuracy: 0.8436\n",
            "Epoch 16/100\n",
            "536/536 [==============================] - 1s 2ms/step - loss: 0.3434 - accuracy: 0.8575 - val_loss: 0.3695 - val_accuracy: 0.8459\n",
            "Epoch 17/100\n",
            "536/536 [==============================] - 1s 2ms/step - loss: 0.3538 - accuracy: 0.8545 - val_loss: 0.3680 - val_accuracy: 0.8482\n",
            "Epoch 18/100\n",
            "536/536 [==============================] - 1s 1ms/step - loss: 0.3537 - accuracy: 0.8559 - val_loss: 0.3666 - val_accuracy: 0.8466\n",
            "Epoch 19/100\n",
            "536/536 [==============================] - 1s 1ms/step - loss: 0.3528 - accuracy: 0.8551 - val_loss: 0.3659 - val_accuracy: 0.8497\n",
            "Epoch 20/100\n",
            "536/536 [==============================] - 1s 1ms/step - loss: 0.3247 - accuracy: 0.8667 - val_loss: 0.3644 - val_accuracy: 0.8463\n",
            "Epoch 21/100\n",
            "536/536 [==============================] - 1s 2ms/step - loss: 0.3362 - accuracy: 0.8603 - val_loss: 0.3644 - val_accuracy: 0.8497\n",
            "Epoch 22/100\n",
            "536/536 [==============================] - 1s 1ms/step - loss: 0.3351 - accuracy: 0.8645 - val_loss: 0.3630 - val_accuracy: 0.8470\n",
            "Epoch 23/100\n",
            "536/536 [==============================] - 1s 2ms/step - loss: 0.3490 - accuracy: 0.8544 - val_loss: 0.3631 - val_accuracy: 0.8501\n",
            "Epoch 24/100\n",
            "536/536 [==============================] - 1s 2ms/step - loss: 0.3373 - accuracy: 0.8589 - val_loss: 0.3618 - val_accuracy: 0.8478\n",
            "Epoch 25/100\n",
            "536/536 [==============================] - 1s 1ms/step - loss: 0.3398 - accuracy: 0.8639 - val_loss: 0.3631 - val_accuracy: 0.8493\n",
            "Epoch 26/100\n",
            "536/536 [==============================] - 1s 2ms/step - loss: 0.3282 - accuracy: 0.8694 - val_loss: 0.3620 - val_accuracy: 0.8501\n",
            "Epoch 27/100\n",
            "536/536 [==============================] - 1s 2ms/step - loss: 0.3351 - accuracy: 0.8637 - val_loss: 0.3613 - val_accuracy: 0.8501\n",
            "Epoch 28/100\n",
            "536/536 [==============================] - 1s 2ms/step - loss: 0.3341 - accuracy: 0.8595 - val_loss: 0.3607 - val_accuracy: 0.8504\n",
            "Epoch 29/100\n",
            "536/536 [==============================] - 1s 2ms/step - loss: 0.3319 - accuracy: 0.8626 - val_loss: 0.3604 - val_accuracy: 0.8497\n",
            "Epoch 30/100\n",
            "536/536 [==============================] - 1s 2ms/step - loss: 0.3404 - accuracy: 0.8604 - val_loss: 0.3601 - val_accuracy: 0.8493\n",
            "Epoch 31/100\n",
            "536/536 [==============================] - 1s 2ms/step - loss: 0.3198 - accuracy: 0.8692 - val_loss: 0.3611 - val_accuracy: 0.8516\n",
            "Epoch 32/100\n",
            "536/536 [==============================] - 1s 2ms/step - loss: 0.3340 - accuracy: 0.8560 - val_loss: 0.3601 - val_accuracy: 0.8493\n",
            "Epoch 33/100\n",
            "536/536 [==============================] - 1s 2ms/step - loss: 0.3136 - accuracy: 0.8735 - val_loss: 0.3622 - val_accuracy: 0.8527\n",
            "Epoch 34/100\n",
            "536/536 [==============================] - 1s 2ms/step - loss: 0.3388 - accuracy: 0.8610 - val_loss: 0.3600 - val_accuracy: 0.8508\n",
            "Epoch 35/100\n",
            "536/536 [==============================] - 1s 2ms/step - loss: 0.3276 - accuracy: 0.8658 - val_loss: 0.3599 - val_accuracy: 0.8516\n",
            "Epoch 36/100\n",
            "536/536 [==============================] - 1s 2ms/step - loss: 0.3284 - accuracy: 0.8636 - val_loss: 0.3608 - val_accuracy: 0.8519\n",
            "Epoch 37/100\n",
            "536/536 [==============================] - 1s 2ms/step - loss: 0.3376 - accuracy: 0.8579 - val_loss: 0.3602 - val_accuracy: 0.8508\n",
            "Epoch 38/100\n",
            "536/536 [==============================] - 1s 2ms/step - loss: 0.3286 - accuracy: 0.8656 - val_loss: 0.3596 - val_accuracy: 0.8489\n",
            "Epoch 39/100\n",
            "536/536 [==============================] - 1s 2ms/step - loss: 0.3182 - accuracy: 0.8620 - val_loss: 0.3599 - val_accuracy: 0.8512\n",
            "Epoch 40/100\n",
            "536/536 [==============================] - 1s 2ms/step - loss: 0.3313 - accuracy: 0.8673 - val_loss: 0.3596 - val_accuracy: 0.8519\n",
            "Epoch 41/100\n",
            "536/536 [==============================] - 1s 2ms/step - loss: 0.3202 - accuracy: 0.8664 - val_loss: 0.3598 - val_accuracy: 0.8512\n",
            "Epoch 42/100\n",
            "536/536 [==============================] - 1s 1ms/step - loss: 0.3230 - accuracy: 0.8646 - val_loss: 0.3597 - val_accuracy: 0.8508\n",
            "Epoch 43/100\n",
            "536/536 [==============================] - 1s 2ms/step - loss: 0.3408 - accuracy: 0.8573 - val_loss: 0.3605 - val_accuracy: 0.8519\n",
            "Epoch 44/100\n",
            "536/536 [==============================] - 1s 1ms/step - loss: 0.3214 - accuracy: 0.8689 - val_loss: 0.3597 - val_accuracy: 0.8508\n",
            "Epoch 45/100\n",
            "536/536 [==============================] - 1s 2ms/step - loss: 0.3247 - accuracy: 0.8641 - val_loss: 0.3599 - val_accuracy: 0.8504\n",
            "Epoch 46/100\n",
            "536/536 [==============================] - 1s 2ms/step - loss: 0.3230 - accuracy: 0.8646 - val_loss: 0.3601 - val_accuracy: 0.8519\n",
            "Epoch 47/100\n",
            "536/536 [==============================] - 1s 2ms/step - loss: 0.3215 - accuracy: 0.8658 - val_loss: 0.3598 - val_accuracy: 0.8512\n",
            "Epoch 48/100\n",
            "536/536 [==============================] - 1s 2ms/step - loss: 0.3200 - accuracy: 0.8613 - val_loss: 0.3611 - val_accuracy: 0.8504\n",
            "Epoch 49/100\n",
            "536/536 [==============================] - 1s 2ms/step - loss: 0.3262 - accuracy: 0.8694 - val_loss: 0.3593 - val_accuracy: 0.8489\n",
            "Epoch 50/100\n",
            "536/536 [==============================] - 1s 2ms/step - loss: 0.3214 - accuracy: 0.8654 - val_loss: 0.3594 - val_accuracy: 0.8501\n",
            "Epoch 51/100\n",
            "536/536 [==============================] - 1s 2ms/step - loss: 0.3221 - accuracy: 0.8647 - val_loss: 0.3601 - val_accuracy: 0.8497\n",
            "Epoch 52/100\n",
            "536/536 [==============================] - 1s 1ms/step - loss: 0.3252 - accuracy: 0.8619 - val_loss: 0.3598 - val_accuracy: 0.8497\n",
            "Epoch 53/100\n",
            "536/536 [==============================] - 1s 2ms/step - loss: 0.3402 - accuracy: 0.8554 - val_loss: 0.3599 - val_accuracy: 0.8501\n",
            "Epoch 54/100\n",
            "536/536 [==============================] - 1s 2ms/step - loss: 0.3293 - accuracy: 0.8587 - val_loss: 0.3597 - val_accuracy: 0.8512\n",
            "Epoch 55/100\n",
            "536/536 [==============================] - 1s 2ms/step - loss: 0.3328 - accuracy: 0.8601 - val_loss: 0.3618 - val_accuracy: 0.8493\n",
            "Epoch 56/100\n",
            "536/536 [==============================] - 1s 2ms/step - loss: 0.3253 - accuracy: 0.8658 - val_loss: 0.3595 - val_accuracy: 0.8512\n",
            "Epoch 57/100\n",
            "536/536 [==============================] - 1s 2ms/step - loss: 0.3235 - accuracy: 0.8690 - val_loss: 0.3596 - val_accuracy: 0.8516\n",
            "Epoch 58/100\n",
            "536/536 [==============================] - 1s 2ms/step - loss: 0.3248 - accuracy: 0.8653 - val_loss: 0.3600 - val_accuracy: 0.8527\n",
            "Epoch 59/100\n",
            "536/536 [==============================] - 1s 2ms/step - loss: 0.3177 - accuracy: 0.8643 - val_loss: 0.3598 - val_accuracy: 0.8535\n",
            "Epoch 60/100\n",
            "536/536 [==============================] - 1s 1ms/step - loss: 0.3322 - accuracy: 0.8650 - val_loss: 0.3608 - val_accuracy: 0.8512\n",
            "Epoch 61/100\n",
            "536/536 [==============================] - 1s 2ms/step - loss: 0.3305 - accuracy: 0.8651 - val_loss: 0.3612 - val_accuracy: 0.8531\n",
            "Epoch 62/100\n",
            "536/536 [==============================] - 1s 2ms/step - loss: 0.3067 - accuracy: 0.8705 - val_loss: 0.3607 - val_accuracy: 0.8501\n",
            "Epoch 63/100\n",
            "536/536 [==============================] - 1s 2ms/step - loss: 0.3282 - accuracy: 0.8639 - val_loss: 0.3605 - val_accuracy: 0.8523\n",
            "Epoch 64/100\n",
            "536/536 [==============================] - 1s 2ms/step - loss: 0.3377 - accuracy: 0.8610 - val_loss: 0.3614 - val_accuracy: 0.8538\n",
            "Epoch 65/100\n",
            "536/536 [==============================] - 1s 2ms/step - loss: 0.3186 - accuracy: 0.8657 - val_loss: 0.3612 - val_accuracy: 0.8516\n",
            "Epoch 66/100\n",
            "536/536 [==============================] - 1s 2ms/step - loss: 0.3250 - accuracy: 0.8638 - val_loss: 0.3612 - val_accuracy: 0.8516\n",
            "Epoch 67/100\n",
            "536/536 [==============================] - 1s 2ms/step - loss: 0.3296 - accuracy: 0.8556 - val_loss: 0.3609 - val_accuracy: 0.8531\n",
            "Epoch 68/100\n",
            "536/536 [==============================] - 1s 2ms/step - loss: 0.3202 - accuracy: 0.8587 - val_loss: 0.3614 - val_accuracy: 0.8531\n",
            "Epoch 69/100\n",
            "536/536 [==============================] - 1s 2ms/step - loss: 0.3202 - accuracy: 0.8621 - val_loss: 0.3615 - val_accuracy: 0.8516\n",
            "Epoch 70/100\n",
            "536/536 [==============================] - 1s 2ms/step - loss: 0.3172 - accuracy: 0.8663 - val_loss: 0.3607 - val_accuracy: 0.8527\n",
            "Epoch 71/100\n",
            "536/536 [==============================] - 1s 2ms/step - loss: 0.3202 - accuracy: 0.8656 - val_loss: 0.3614 - val_accuracy: 0.8531\n",
            "Epoch 72/100\n",
            "536/536 [==============================] - 1s 2ms/step - loss: 0.3251 - accuracy: 0.8651 - val_loss: 0.3614 - val_accuracy: 0.8527\n",
            "Epoch 73/100\n",
            "536/536 [==============================] - 1s 2ms/step - loss: 0.3259 - accuracy: 0.8597 - val_loss: 0.3613 - val_accuracy: 0.8535\n",
            "Epoch 74/100\n",
            "536/536 [==============================] - 1s 2ms/step - loss: 0.3332 - accuracy: 0.8583 - val_loss: 0.3619 - val_accuracy: 0.8535\n",
            "Epoch 75/100\n",
            "536/536 [==============================] - 1s 1ms/step - loss: 0.3265 - accuracy: 0.8570 - val_loss: 0.3620 - val_accuracy: 0.8535\n",
            "Epoch 76/100\n",
            "536/536 [==============================] - 1s 2ms/step - loss: 0.3297 - accuracy: 0.8613 - val_loss: 0.3609 - val_accuracy: 0.8538\n",
            "Epoch 77/100\n",
            "536/536 [==============================] - 1s 2ms/step - loss: 0.3183 - accuracy: 0.8689 - val_loss: 0.3611 - val_accuracy: 0.8535\n",
            "Epoch 78/100\n",
            "536/536 [==============================] - 1s 2ms/step - loss: 0.3282 - accuracy: 0.8589 - val_loss: 0.3620 - val_accuracy: 0.8565\n",
            "Epoch 79/100\n",
            "536/536 [==============================] - 1s 2ms/step - loss: 0.3283 - accuracy: 0.8647 - val_loss: 0.3617 - val_accuracy: 0.8527\n",
            "Epoch 80/100\n",
            "536/536 [==============================] - 1s 2ms/step - loss: 0.3223 - accuracy: 0.8635 - val_loss: 0.3616 - val_accuracy: 0.8527\n",
            "Epoch 81/100\n",
            "536/536 [==============================] - 1s 2ms/step - loss: 0.3205 - accuracy: 0.8651 - val_loss: 0.3617 - val_accuracy: 0.8523\n",
            "Epoch 82/100\n",
            "536/536 [==============================] - 1s 2ms/step - loss: 0.3187 - accuracy: 0.8631 - val_loss: 0.3617 - val_accuracy: 0.8546\n",
            "Epoch 83/100\n",
            "536/536 [==============================] - 1s 2ms/step - loss: 0.3261 - accuracy: 0.8623 - val_loss: 0.3613 - val_accuracy: 0.8538\n",
            "Epoch 84/100\n",
            "536/536 [==============================] - 1s 2ms/step - loss: 0.3101 - accuracy: 0.8674 - val_loss: 0.3622 - val_accuracy: 0.8516\n",
            "Epoch 85/100\n",
            "536/536 [==============================] - 1s 2ms/step - loss: 0.3147 - accuracy: 0.8648 - val_loss: 0.3616 - val_accuracy: 0.8508\n",
            "Epoch 86/100\n",
            "536/536 [==============================] - 1s 2ms/step - loss: 0.3250 - accuracy: 0.8638 - val_loss: 0.3617 - val_accuracy: 0.8523\n",
            "Epoch 87/100\n",
            "536/536 [==============================] - 1s 2ms/step - loss: 0.3139 - accuracy: 0.8694 - val_loss: 0.3614 - val_accuracy: 0.8519\n",
            "Epoch 88/100\n",
            "536/536 [==============================] - 1s 1ms/step - loss: 0.3247 - accuracy: 0.8598 - val_loss: 0.3657 - val_accuracy: 0.8508\n",
            "Epoch 89/100\n",
            "536/536 [==============================] - 1s 2ms/step - loss: 0.3249 - accuracy: 0.8633 - val_loss: 0.3622 - val_accuracy: 0.8516\n",
            "Epoch 90/100\n",
            "536/536 [==============================] - 1s 2ms/step - loss: 0.3124 - accuracy: 0.8724 - val_loss: 0.3641 - val_accuracy: 0.8508\n",
            "Epoch 91/100\n",
            "536/536 [==============================] - 1s 2ms/step - loss: 0.3222 - accuracy: 0.8616 - val_loss: 0.3626 - val_accuracy: 0.8516\n",
            "Epoch 92/100\n",
            "536/536 [==============================] - 1s 2ms/step - loss: 0.3260 - accuracy: 0.8622 - val_loss: 0.3632 - val_accuracy: 0.8516\n",
            "Epoch 93/100\n",
            "536/536 [==============================] - 1s 2ms/step - loss: 0.3131 - accuracy: 0.8698 - val_loss: 0.3640 - val_accuracy: 0.8508\n",
            "Epoch 94/100\n",
            "536/536 [==============================] - 1s 2ms/step - loss: 0.3224 - accuracy: 0.8639 - val_loss: 0.3636 - val_accuracy: 0.8504\n",
            "Epoch 95/100\n",
            "536/536 [==============================] - 1s 2ms/step - loss: 0.3053 - accuracy: 0.8712 - val_loss: 0.3629 - val_accuracy: 0.8508\n",
            "Epoch 96/100\n",
            "536/536 [==============================] - 1s 2ms/step - loss: 0.3218 - accuracy: 0.8601 - val_loss: 0.3630 - val_accuracy: 0.8508\n",
            "Epoch 97/100\n",
            "536/536 [==============================] - 1s 2ms/step - loss: 0.3163 - accuracy: 0.8658 - val_loss: 0.3634 - val_accuracy: 0.8501\n",
            "Epoch 98/100\n",
            "536/536 [==============================] - 1s 2ms/step - loss: 0.3297 - accuracy: 0.8601 - val_loss: 0.3633 - val_accuracy: 0.8512\n",
            "Epoch 99/100\n",
            "536/536 [==============================] - 1s 2ms/step - loss: 0.3139 - accuracy: 0.8686 - val_loss: 0.3643 - val_accuracy: 0.8504\n",
            "Epoch 100/100\n",
            "536/536 [==============================] - 1s 2ms/step - loss: 0.3098 - accuracy: 0.8714 - val_loss: 0.3642 - val_accuracy: 0.8501\n"
          ],
          "name": "stdout"
        }
      ]
    },
    {
      "cell_type": "code",
      "metadata": {
        "id": "iIW_DSjQHlXc",
        "colab": {
          "base_uri": "https://localhost:8080/"
        },
        "outputId": "3fa45fa9-2d6f-499d-a82b-1dd32e8deb29"
      },
      "source": [
        "# list all data in history\r\n",
        "\r\n",
        "print(model_history.history.keys())\r\n"
      ],
      "execution_count": 35,
      "outputs": [
        {
          "output_type": "stream",
          "text": [
            "dict_keys(['loss', 'accuracy', 'val_loss', 'val_accuracy'])\n"
          ],
          "name": "stdout"
        }
      ]
    },
    {
      "cell_type": "code",
      "metadata": {
        "colab": {
          "base_uri": "https://localhost:8080/",
          "height": 295
        },
        "id": "JCSFsPNGQS73",
        "outputId": "46e75538-2e08-4440-f552-012368f8edb1"
      },
      "source": [
        "# summarize history for accuracy\r\n",
        "plt.plot(model_history.history['accuracy'])\r\n",
        "plt.plot(model_history.history['val_accuracy'])\r\n",
        "plt.title('model accuracy')\r\n",
        "plt.ylabel('accuracy')\r\n",
        "plt.xlabel('epochs')\r\n",
        "plt.legend(['train', 'test'], loc='upper left')\r\n",
        "plt.show()\r\n",
        "\r\n"
      ],
      "execution_count": 36,
      "outputs": [
        {
          "output_type": "display_data",
          "data": {
            "image/png": "[encoded data removed]",
            "text/plain": [
              "<Figure size 432x288 with 1 Axes>"
            ]
          },
          "metadata": {
            "tags": [],
            "needs_background": "light"
          }
        }
      ]
    },
    {
      "cell_type": "code",
      "metadata": {
        "colab": {
          "base_uri": "https://localhost:8080/",
          "height": 295
        },
        "id": "CHKIJ9KyQ4Ae",
        "outputId": "f110badf-9334-491c-b94b-f0d49d2976d5"
      },
      "source": [
        "# summarize history for loss\r\n",
        "plt.plot(model_history.history['loss'])\r\n",
        "plt.plot(model_history.history['val_loss'])\r\n",
        "plt.title('model loss')\r\n",
        "plt.ylabel('loss')\r\n",
        "plt.xlabel('epoch')\r\n",
        "plt.legend(['train', 'test'], loc='upper left')\r\n",
        "plt.show()"
      ],
      "execution_count": 37,
      "outputs": [
        {
          "output_type": "display_data",
          "data": {
            "image/png": "[encoded data removed]",
            "text/plain": [
              "<Figure size 432x288 with 1 Axes>"
            ]
          },
          "metadata": {
            "tags": [],
            "needs_background": "light"
          }
        }
      ]
    },
    {
      "cell_type": "markdown",
      "metadata": {
        "id": "h3XqsNBfRCko"
      },
      "source": [
        "**# Part 3 - Making the predictions and evaluating the model**"
      ]
    },
    {
      "cell_type": "code",
      "metadata": {
        "id": "wCLDobeGHlc6"
      },
      "source": [
        "\r\n",
        "# Predicting the Test set results\r\n",
        "y_pred = classifier.predict(X_test)\r\n",
        "y_pred = (y_pred > 0.5)"
      ],
      "execution_count": 38,
      "outputs": []
    },
    {
      "cell_type": "code",
      "metadata": {
        "colab": {
          "base_uri": "https://localhost:8080/"
        },
        "id": "Me_ZOEXJRI_9",
        "outputId": "beb8758a-f34c-4972-840a-59ddc4684bab"
      },
      "source": [
        "# Making the Confusion Matrix\r\n",
        "from sklearn.metrics import confusion_matrix\r\n",
        "cm = confusion_matrix(y_test, y_pred)\r\n",
        "cm"
      ],
      "execution_count": 39,
      "outputs": [
        {
          "output_type": "execute_result",
          "data": {
            "text/plain": [
              "array([[1492,  103],\n",
              "       [ 191,  214]])"
            ]
          },
          "metadata": {
            "tags": []
          },
          "execution_count": 39
        }
      ]
    },
    {
      "cell_type": "code",
      "metadata": {
        "colab": {
          "base_uri": "https://localhost:8080/"
        },
        "id": "lmIj21BXRMtC",
        "outputId": "e59b7be5-f788-4600-9e57-61d8bc61318e"
      },
      "source": [
        "# Calculate the Accuracy\r\n",
        "from sklearn.metrics import accuracy_score\r\n",
        "score=accuracy_score(y_pred,y_test)\r\n",
        "score"
      ],
      "execution_count": 40,
      "outputs": [
        {
          "output_type": "execute_result",
          "data": {
            "text/plain": [
              "0.853"
            ]
          },
          "metadata": {
            "tags": []
          },
          "execution_count": 40
        }
      ]
    }
  ]
}